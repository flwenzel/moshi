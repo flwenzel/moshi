{
 "cells": [
  {
   "cell_type": "code",
   "execution_count": 21,
   "metadata": {},
   "outputs": [],
   "source": [
    "from dataclasses import dataclass\n",
    "\n",
    "import torch\n",
    "\n",
    "from moshi.modules.streaming import StreamingModule, StreamingAdd, StreamingContainer"
   ]
  },
  {
   "cell_type": "code",
   "execution_count": 6,
   "metadata": {},
   "outputs": [
    {
     "name": "stdout",
     "output_type": "stream",
     "text": [
      "tensor([3])\n"
     ]
    }
   ],
   "source": [
    "streaming_add = StreamingAdd()\n",
    "\n",
    "x = torch.tensor([1, 1])\n",
    "y = torch.tensor([1, 2])\n",
    "out = streaming_add.forward(x, y)\n",
    "print(out)"
   ]
  },
  {
   "cell_type": "code",
   "execution_count": 9,
   "metadata": {},
   "outputs": [
    {
     "name": "stdout",
     "output_type": "stream",
     "text": [
      "_StreamingAddState(previous_x=tensor([], dtype=torch.int64), previous_y=tensor([], dtype=torch.int64))\n",
      "tensor([3])\n",
      "_StreamingAddState(previous_x=tensor([], dtype=torch.int64), previous_y=tensor([], dtype=torch.int64))\n",
      "tensor([3])\n",
      "_StreamingAddState(previous_x=tensor([], dtype=torch.int64), previous_y=tensor([], dtype=torch.int64))\n",
      "tensor([3])\n",
      "_StreamingAddState(previous_x=tensor([], dtype=torch.int64), previous_y=tensor([], dtype=torch.int64))\n",
      "tensor([3])\n"
     ]
    }
   ],
   "source": [
    "B = 1\n",
    "with streaming_add.streaming(B):\n",
    "    for i in range(4):\n",
    "        out = streaming_add.forward(x, y)\n",
    "        print(streaming_add._streaming_state)\n",
    "        print(out)\n",
    "\n",
    "# B = 1\n",
    "# with streaming_add.streaming(B):\n",
    "#     for i in range(4):\n",
    "#         out = streaming_add.forward(x, y)\n",
    "#         print(out)\n"
   ]
  },
  {
   "cell_type": "markdown",
   "metadata": {},
   "source": [
    "### Simple custom streaming module"
   ]
  },
  {
   "cell_type": "code",
   "execution_count": 16,
   "metadata": {},
   "outputs": [],
   "source": [
    "@dataclass\n",
    "class _State:\n",
    "    inputs: torch.Tensor | None = None\n",
    "\n",
    "def reset(self):\n",
    "    self.inputs = None\n",
    "\n",
    "\n",
    "class StreamingInputs(StreamingModule[_State]):\n",
    "    def _init_streaming_state(self, batch_size: int) -> _State:\n",
    "        return _State()\n",
    "\n",
    "    def forward(self, x):\n",
    "        if self._streaming_state is None:\n",
    "            return x\n",
    "        else:\n",
    "            prev_state = self._streaming_state.inputs\n",
    "            if prev_state is not None:\n",
    "                x = torch.cat([prev_state, x], dim=-1)\n",
    "            self._streaming_state.inputs = x\n",
    "            return x"
   ]
  },
  {
   "cell_type": "code",
   "execution_count": 17,
   "metadata": {},
   "outputs": [
    {
     "name": "stdout",
     "output_type": "stream",
     "text": [
      "_State(inputs=tensor([1]))\n",
      "tensor([1])\n",
      "_State(inputs=tensor([1, 1]))\n",
      "tensor([1, 1])\n",
      "_State(inputs=tensor([1, 1, 1]))\n",
      "tensor([1, 1, 1])\n",
      "_State(inputs=tensor([1, 1, 1, 1]))\n",
      "tensor([1, 1, 1, 1])\n"
     ]
    }
   ],
   "source": [
    "B = 1\n",
    "streaming_inputs = StreamingInputs()\n",
    "with streaming_inputs.streaming(B):\n",
    "    for i in range(4):\n",
    "        out = streaming_inputs.forward(x)\n",
    "        print(streaming_inputs._streaming_state)\n",
    "        print(out)"
   ]
  },
  {
   "cell_type": "code",
   "execution_count": 19,
   "metadata": {},
   "outputs": [
    {
     "name": "stdout",
     "output_type": "stream",
     "text": [
      "None\n",
      "tensor([1])\n",
      "None\n",
      "tensor([1])\n",
      "None\n",
      "tensor([1])\n",
      "None\n",
      "tensor([1])\n"
     ]
    }
   ],
   "source": [
    "for i in range(4):\n",
    "    out = streaming_inputs.forward(x)\n",
    "    print(streaming_inputs._streaming_state)\n",
    "    print(out)"
   ]
  },
  {
   "cell_type": "markdown",
   "metadata": {},
   "source": [
    "### Streaming module with children"
   ]
  },
  {
   "cell_type": "code",
   "execution_count": 22,
   "metadata": {},
   "outputs": [],
   "source": [
    "class ParentStreamingModule(StreamingContainer):\n",
    "    # We use StreamingContainer s.t. we can stream the submodules recursively, even though\n",
    "    # this parent class has no streaming state itself\n",
    "    def __init__(self):\n",
    "        super().__init__()\n",
    "        # We define two streaming submodules\n",
    "        self.streaming_x = StreamingInputs()\n",
    "        self.streaming_y = StreamingInputs()\n",
    "    \n",
    "\n",
    "    def forward(self, x, y):\n",
    "        x = self.streaming_x(x)\n",
    "        y = self.streaming_y(y)\n",
    "        return x + y"
   ]
  },
  {
   "cell_type": "code",
   "execution_count": 28,
   "metadata": {},
   "outputs": [
    {
     "name": "stdout",
     "output_type": "stream",
     "text": [
      "None\n",
      "{'': None, 'streaming_x': None, 'streaming_y': None}\n",
      "tensor([[8]]) tensor([[8]]) tensor([[16]])\n",
      "None\n",
      "{'': None, 'streaming_x': None, 'streaming_y': None}\n",
      "tensor([[7]]) tensor([[5]]) tensor([[12]])\n",
      "None\n",
      "{'': None, 'streaming_x': None, 'streaming_y': None}\n",
      "tensor([[4]]) tensor([[5]]) tensor([[9]])\n",
      "None\n",
      "{'': None, 'streaming_x': None, 'streaming_y': None}\n",
      "tensor([[1]]) tensor([[0]]) tensor([[1]])\n"
     ]
    }
   ],
   "source": [
    "B = 1\n",
    "streaming_parent = ParentStreamingModule()\n",
    "for i in range(4):\n",
    "    x = torch.randint(0 , 10, (B, 1))\n",
    "    y = torch.randint(0 , 10, (B, 1))\n",
    "    out = streaming_parent.forward(x, y)\n",
    "    # Parent class has no straming state --> None\n",
    "    print(streaming_inputs._streaming_state)\n",
    "    # But we can get the streaming state of the submodules recursively\n",
    "    print(streaming_parent.get_streaming_state())\n",
    "    print(x, y, out)"
   ]
  },
  {
   "cell_type": "code",
   "execution_count": 29,
   "metadata": {},
   "outputs": [
    {
     "name": "stdout",
     "output_type": "stream",
     "text": [
      "None\n",
      "{'': _NullState(), 'streaming_x': _State(inputs=tensor([[3]])), 'streaming_y': _State(inputs=tensor([[5]]))}\n",
      "tensor([[3]]) tensor([[5]]) tensor([[8]])\n",
      "None\n",
      "{'': _NullState(), 'streaming_x': _State(inputs=tensor([[3, 8]])), 'streaming_y': _State(inputs=tensor([[5, 8]]))}\n",
      "tensor([[8]]) tensor([[8]]) tensor([[ 8, 16]])\n",
      "None\n",
      "{'': _NullState(), 'streaming_x': _State(inputs=tensor([[3, 8, 5]])), 'streaming_y': _State(inputs=tensor([[5, 8, 9]]))}\n",
      "tensor([[5]]) tensor([[9]]) tensor([[ 8, 16, 14]])\n",
      "None\n",
      "{'': _NullState(), 'streaming_x': _State(inputs=tensor([[3, 8, 5, 6]])), 'streaming_y': _State(inputs=tensor([[5, 8, 9, 6]]))}\n",
      "tensor([[6]]) tensor([[6]]) tensor([[ 8, 16, 14, 12]])\n"
     ]
    }
   ],
   "source": [
    "B = 1\n",
    "streaming_parent = ParentStreamingModule()\n",
    "with streaming_parent.streaming(B):\n",
    "    for i in range(4):\n",
    "        x = torch.randint(0 , 10, (B, 1))\n",
    "        y = torch.randint(0 , 10, (B, 1))\n",
    "        out = streaming_parent.forward(x, y)\n",
    "        # Parent class has no straming state --> None\n",
    "        print(streaming_inputs._streaming_state)\n",
    "        # But we can get the streaming state of the submodules recursively\n",
    "        print(streaming_parent.get_streaming_state())\n",
    "        print(x, y, out)"
   ]
  },
  {
   "cell_type": "code",
   "execution_count": null,
   "metadata": {},
   "outputs": [],
   "source": []
  }
 ],
 "metadata": {
  "kernelspec": {
   "display_name": "moshi",
   "language": "python",
   "name": "python3"
  },
  "language_info": {
   "codemirror_mode": {
    "name": "ipython",
    "version": 3
   },
   "file_extension": ".py",
   "mimetype": "text/x-python",
   "name": "python",
   "nbconvert_exporter": "python",
   "pygments_lexer": "ipython3",
   "version": "3.12.7"
  }
 },
 "nbformat": 4,
 "nbformat_minor": 2
}
